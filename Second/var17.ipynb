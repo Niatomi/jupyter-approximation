{
 "cells": [
  {
   "cell_type": "markdown",
   "id": "fd8a12ce",
   "metadata": {},
   "source": [
    "# Работа 2. Применение аппроксимации к датасету\n",
    "## Работа по варианту 17\n",
    "### Скляров Д.В., 2-ИАИТ-5\n",
    "#### 2022"
   ]
  },
  {
   "cell_type": "markdown",
   "id": "d59f89c5",
   "metadata": {},
   "source": [
    "#### Применение аппроксимации к датасету"
   ]
  },
  {
   "cell_type": "code",
   "execution_count": 137,
   "id": "64bcce47",
   "metadata": {},
   "outputs": [],
   "source": [
    "import seaborn as sns\n",
    "import pandas as pd\n",
    "import matplotlib.pyplot as plt\n",
    "import numpy as np\n",
    "from sklearn.metrics import r2_score as det"
   ]
  },
  {
   "cell_type": "code",
   "execution_count": 138,
   "id": "6f4e9967",
   "metadata": {},
   "outputs": [
    {
     "name": "stdout",
     "output_type": "stream",
     "text": [
      "     sepal_length  sepal_width  petal_length  petal_width    species\n",
      "0             5.1          3.5           1.4          0.2     setosa\n",
      "1             4.9          3.0           1.4          0.2     setosa\n",
      "2             4.7          3.2           1.3          0.2     setosa\n",
      "3             4.6          3.1           1.5          0.2     setosa\n",
      "4             5.0          3.6           1.4          0.2     setosa\n",
      "..            ...          ...           ...          ...        ...\n",
      "145           6.7          3.0           5.2          2.3  virginica\n",
      "146           6.3          2.5           5.0          1.9  virginica\n",
      "147           6.5          3.0           5.2          2.0  virginica\n",
      "148           6.2          3.4           5.4          2.3  virginica\n",
      "149           5.9          3.0           5.1          1.8  virginica\n",
      "\n",
      "[150 rows x 5 columns]\n"
     ]
    }
   ],
   "source": [
    "iris = sns.load_dataset('iris')\n",
    "print(iris)"
   ]
  },
  {
   "cell_type": "code",
   "execution_count": 139,
   "id": "88e04997",
   "metadata": {},
   "outputs": [],
   "source": [
    "X = []\n",
    "Y = []\n",
    "types = iris['species'].values\n",
    "sepal_lengths = iris['sepal_length'].values\n",
    "petal_widths = iris['petal_width'].values\n",
    "L = range(1, len(sepal_lengths), 1)\n",
    "for i in L:\n",
    "    if types[i] == 'versicolor':\n",
    "        X.append(sepal_lengths[i])\n",
    "        Y.append(petal_widths[i])"
   ]
  },
  {
   "cell_type": "code",
   "execution_count": 140,
   "id": "e2a977dc",
   "metadata": {
    "pycharm": {
     "name": "#%%\n"
    }
   },
   "outputs": [
    {
     "name": "stdout",
     "output_type": "stream",
     "text": [
      "[1.4, 1.5, 1.5, 1.3, 1.5, 1.3, 1.6, 1.0, 1.3, 1.4, 1.0, 1.5, 1.0, 1.4, 1.3, 1.4, 1.5, 1.0, 1.5, 1.1, 1.8, 1.3, 1.5, 1.2, 1.3, 1.4, 1.4, 1.7, 1.5, 1.0, 1.1, 1.0, 1.2, 1.6, 1.5, 1.6, 1.5, 1.3, 1.3, 1.3, 1.2, 1.4, 1.2, 1.0, 1.3, 1.2, 1.3, 1.3, 1.1, 1.3]\n",
      "[7.0, 6.4, 6.9, 5.5, 6.5, 5.7, 6.3, 4.9, 6.6, 5.2, 5.0, 5.9, 6.0, 6.1, 5.6, 6.7, 5.6, 5.8, 6.2, 5.6, 5.9, 6.1, 6.3, 6.1, 6.4, 6.6, 6.8, 6.7, 6.0, 5.7, 5.5, 5.5, 5.8, 6.0, 5.4, 6.0, 6.7, 6.3, 5.6, 5.5, 5.5, 6.1, 5.8, 5.0, 5.6, 5.7, 5.7, 6.2, 5.1, 5.7]\n"
     ]
    }
   ],
   "source": [
    "print(Y)\n",
    "print(X)"
   ]
  },
  {
   "cell_type": "code",
   "execution_count": 144,
   "id": "7455e4af",
   "metadata": {
    "pycharm": {
     "name": "#%%\n"
    }
   },
   "outputs": [
    {
     "data": {
      "image/png": "[encoded data removed]",
      "text/plain": [
       "<Figure size 432x288 with 1 Axes>"
      ]
     },
     "metadata": {
      "needs_background": "light"
     },
     "output_type": "display_data"
    }
   ],
   "source": [
    "plt.xlabel('sepal_length')\n",
    "plt.ylabel('petal_width')\n",
    "plt.scatter(X, Y)\n",
    "plt.grid()\n",
    "plt.show()"
   ]
  },
  {
   "cell_type": "markdown",
   "id": "4d710361",
   "metadata": {
    "pycharm": {
     "name": "#%% md\n"
    }
   },
   "source": [
    "#### Самостоятельное задание"
   ]
  },
  {
   "cell_type": "markdown",
   "id": "cf0aac15",
   "metadata": {},
   "source": [
    "##### 1. Аппроксимируйте с помощью polyfit заданный вариантом датасет, для чего увеличивая порядок (от 1 до 15) аппроксимации polyfit добейтесь максимального значения коэффициента детерминации (наивысшая точность), если точность не повышается после некоторого порядка – останавливайтесь;"
   ]
  },
  {
   "cell_type": "code",
   "execution_count": 142,
   "id": "3ba9c99b",
   "metadata": {
    "pycharm": {
     "name": "#%%\n"
    }
   },
   "outputs": [
    {
     "name": "stdout",
     "output_type": "stream",
     "text": [
      "Коэффициент детерминации:  0.4044661702926722\n"
     ]
    }
   ],
   "source": [
    "Y1 = []\n",
    "\n",
    "for x in X:\n",
    "    Y1.append(np.poly1d(np.polyfit(X,Y,10))(x))\n",
    "\n",
    "print('Коэффициент детерминации: ', det(Y, Y1))"
   ]
  },
  {
   "cell_type": "markdown",
   "id": "5a4c5ead",
   "metadata": {},
   "source": [
    "##### Постройте график результата аппроксимации, наложенный на точки датасета."
   ]
  },
  {
   "cell_type": "code",
   "execution_count": 143,
   "id": "1fb50bea",
   "metadata": {
    "pycharm": {
     "name": "#%%\n"
    }
   },
   "outputs": [
    {
     "data": {
      "image/png": "[encoded data removed]",
      "text/plain": [
       "<Figure size 432x288 with 1 Axes>"
      ]
     },
     "metadata": {
      "needs_background": "light"
     },
     "output_type": "display_data"
    }
   ],
   "source": [
    "plt.xlabel('sepal_length')\n",
    "plt.ylabel('petal_width')\n",
    "plt.title('Аппроксимация датасета')\n",
    "plt.scatter(X, Y)\n",
    "plt.scatter(X, Y1, color='red')\n",
    "\n",
    "plt.legend(['Датасет', 'Аппроксимация'])\n",
    "\n",
    "plt.grid()\n",
    "plt.show()"
   ]
  }
 ],
 "metadata": {
  "kernelspec": {
   "display_name": "Python 3 (ipykernel)",
   "language": "python",
   "name": "python3"
  },
  "language_info": {
   "codemirror_mode": {
    "name": "ipython",
    "version": 3
   },
   "file_extension": ".py",
   "mimetype": "text/x-python",
   "name": "python",
   "nbconvert_exporter": "python",
   "pygments_lexer": "ipython3",
   "version": "3.10.4"
  }
 },
 "nbformat": 4,
 "nbformat_minor": 5
}