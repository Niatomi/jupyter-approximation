{
 "cells": [
  {
   "cell_type": "markdown",
   "metadata": {},
   "source": [
    "# Работа 3. Аппроксимация логарифмической и экспоненциальной функцией с помощью polyfit\n",
    "## Работа по варианту 17\n",
    "### Скляров Д.В., 2-ИАИТ-5\n",
    "#### 2022"
   ]
  },
  {
   "cell_type": "code",
   "execution_count": 1,
   "metadata": {
    "pycharm": {
     "name": "#%%\n"
    }
   },
   "outputs": [],
   "source": [
    "import matplotlib.pyplot as plt\n",
    "import numpy as np\n",
    "from sklearn.metrics import r2_score as det"
   ]
  },
  {
   "cell_type": "code",
   "execution_count": 2,
   "metadata": {
    "pycharm": {
     "name": "#%%\n"
    }
   },
   "outputs": [],
   "source": [
    "def logfit(X, Y, iterableX):\n",
    "    a = np.polyfit(np.log(X), Y, 1)\n",
    "    return a[1] + a[0]*np.log(iterableX)"
   ]
  },
  {
   "cell_type": "code",
   "execution_count": 3,
   "metadata": {
    "pycharm": {
     "name": "#%%\n"
    }
   },
   "outputs": [],
   "source": [
    "def expfit(X, Y, iterableX):\n",
    "    a = np.polyfit(X, np.log(Y), 1)\n",
    "    return np.exp(a[1] + a[0]*iterableX)"
   ]
  },
  {
   "cell_type": "markdown",
   "metadata": {
    "pycharm": {
     "name": "#%% md\n"
    }
   },
   "source": [
    "#### Самостоятельное задание"
   ]
  },
  {
   "cell_type": "markdown",
   "metadata": {
    "pycharm": {
     "name": "#%% md\n"
    }
   },
   "source": [
    "#### Задайте две функции – f1(x) – логарифмическую, f2(x) – экспоненциальную, коэффициенты а1 и а0 a выбирайте по варианту – для f1(x) a0 = N, a1 = N / 10, для f2(x) a0 = N / 10, a1 = N / 10000\n"
   ]
  },
  {
   "cell_type": "markdown",
   "source": [
    "#### Функции"
   ],
   "metadata": {
    "collapsed": false
   }
  },
  {
   "cell_type": "code",
   "execution_count": 4,
   "metadata": {
    "pycharm": {
     "name": "#%%\n"
    }
   },
   "outputs": [],
   "source": [
    "def f1(x):\n",
    "    a0 = 17\n",
    "    a1 = 17/10\n",
    "    return a0 + a1 * np.log(x)"
   ]
  },
  {
   "cell_type": "code",
   "execution_count": 5,
   "metadata": {
    "pycharm": {
     "name": "#%%\n"
    }
   },
   "outputs": [],
   "source": [
    "def f2(x):\n",
    "    a0 = 17 / 10\n",
    "    a1 = 17 / 10000\n",
    "    return np.exp(a0 + a1 * x)"
   ]
  },
  {
   "cell_type": "markdown",
   "metadata": {},
   "source": [
    "#### Аппроксимируйте каждую из функций с помощью logfit и expfit, постройте два графика результатов аппроксимации вместе с исходными значениями, выведите коэффициенты детерминации для каждой аппроксимации."
   ]
  },
  {
   "cell_type": "markdown",
   "metadata": {},
   "source": [
    "##### logfit"
   ]
  },
  {
   "cell_type": "code",
   "execution_count": 6,
   "metadata": {
    "pycharm": {
     "name": "#%%\n"
    }
   },
   "outputs": [],
   "source": [
    "X1 = np.arange(0.1, 100, 0.1)\n",
    "Ylog = []\n",
    "for x in X1:\n",
    "    Ylog.append(f1(x))"
   ]
  },
  {
   "cell_type": "code",
   "execution_count": 7,
   "metadata": {
    "pycharm": {
     "name": "#%%\n"
    }
   },
   "outputs": [
    {
     "name": "stdout",
     "output_type": "stream",
     "text": [
      "Коэффициент детерминации log аппроксимации:  1.0\n"
     ]
    }
   ],
   "source": [
    "Y1log = []\n",
    "\n",
    "for x in X1:\n",
    "    Y1log.append(logfit(X1, Ylog, x))\n",
    "\n",
    "print('Коэффициент детерминации log аппроксимации: ', det(Ylog, Y1log))"
   ]
  },
  {
   "cell_type": "markdown",
   "metadata": {},
   "source": [
    "##### expfit"
   ]
  },
  {
   "cell_type": "code",
   "execution_count": 8,
   "metadata": {
    "pycharm": {
     "name": "#%%\n"
    }
   },
   "outputs": [
    {
     "name": "stdout",
     "output_type": "stream",
     "text": [
      "Коэффициент детерминации exp аппроксимации:  1.0\n"
     ]
    }
   ],
   "source": [
    "X2 = np.arange(-1000, 5000, 1)\n",
    "Yexp = []\n",
    "for x in X2:\n",
    "    Yexp.append(f2(x))\n",
    "\n",
    "Y1exp = []\n",
    "for x in X2:\n",
    "    Y1exp.append(expfit(X2, Yexp, x))\n",
    "\n",
    "print('Коэффициент детерминации exp аппроксимации: ', det(Yexp, Y1exp))"
   ]
  },
  {
   "cell_type": "markdown",
   "source": [
    "#### Графики"
   ],
   "metadata": {
    "collapsed": false
   }
  },
  {
   "cell_type": "code",
   "execution_count": 9,
   "metadata": {
    "pycharm": {
     "name": "#%%\n"
    }
   },
   "outputs": [
    {
     "data": {
      "text/plain": "<Figure size 432x288 with 1 Axes>",
      "image/png": "[encoded data removed]"
     },
     "metadata": {
      "needs_background": "light"
     },
     "output_type": "display_data"
    }
   ],
   "source": [
    "plt.title('Аппроксимация логарифмической функции')\n",
    "plt.xlabel('Ось Х')\n",
    "plt.ylabel('Ось Y')\n",
    "\n",
    "plt.plot(X1, Ylog, lw = 10)\n",
    "plt.plot(X1, Y1log, 'r--', lw=4)\n",
    "\n",
    "plt.legend(['Функция', 'Аппроксимация'])\n",
    "\n",
    "plt.grid()\n",
    "plt.show()"
   ]
  },
  {
   "cell_type": "code",
   "execution_count": 10,
   "metadata": {
    "pycharm": {
     "name": "#%%\n"
    }
   },
   "outputs": [
    {
     "data": {
      "text/plain": "<Figure size 432x288 with 1 Axes>",
      "image/png": "[encoded data removed]"
     },
     "metadata": {
      "needs_background": "light"
     },
     "output_type": "display_data"
    }
   ],
   "source": [
    "plt.title('Аппроксимация экспоненциальной функции')\n",
    "plt.xlabel('Ось Х')\n",
    "plt.ylabel('Ось Y')\n",
    "\n",
    "plt.plot(X2, Yexp, lw = 10)\n",
    "plt.plot(X2, Y1exp, 'r--', lw = 4)\n",
    "\n",
    "plt.legend(['Функция', 'Аппроксимация'])\n",
    "\n",
    "plt.grid()\n",
    "plt.show()"
   ]
  }
 ],
 "metadata": {
  "kernelspec": {
   "display_name": "Python 3 (ipykernel)",
   "language": "python",
   "name": "python3"
  },
  "language_info": {
   "codemirror_mode": {
    "name": "ipython",
    "version": 3
   },
   "file_extension": ".py",
   "mimetype": "text/x-python",
   "name": "python",
   "nbconvert_exporter": "python",
   "pygments_lexer": "ipython3",
   "version": "3.10.4"
  }
 },
 "nbformat": 4,
 "nbformat_minor": 1
}